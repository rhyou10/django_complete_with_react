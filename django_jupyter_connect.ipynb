{
 "cells": [
  {
   "cell_type": "code",
   "execution_count": 1,
   "id": "747ca178",
   "metadata": {},
   "outputs": [],
   "source": [
    "import os\n",
    "import django\n",
    "os.environ.setdefault('DJANGO_SETTINGS_MODULE', 'askcompany.settings')\n",
    "os.environ[\"DJANGO_ALLOW_ASYNC_UNSAFE\"] = \"true\"\n",
    "django.setup()\n",
    "from instagram.models import Post"
   ]
  },
  {
   "cell_type": "code",
   "execution_count": 6,
   "id": "26f908e1",
   "metadata": {},
   "outputs": [
    {
     "data": {
      "text/plain": [
       "<QuerySet [<Post: 1 : 첫번째 메세지>, <Post: 2 : 두번째 메세지>, <Post: 3 : 세번째 메세지>]>"
      ]
     },
     "execution_count": 6,
     "metadata": {},
     "output_type": "execute_result"
    }
   ],
   "source": [
    "Post.objects.all()\n"
   ]
  },
  {
   "cell_type": "code",
   "execution_count": 11,
   "id": "d6261a57",
   "metadata": {},
   "outputs": [
    {
     "name": "stdout",
     "output_type": "stream",
     "text": [
      "SELECT \"instagram_post\".\"id\", \"instagram_post\".\"message\", \"instagram_post\".\"photo\", \"instagram_post\".\"is_public\", \"instagram_post\".\"created_at\", \"instagram_post\".\"updated_at\" FROM \"instagram_post\" ORDER BY \"instagram_post\".\"id\" ASC\n"
     ]
    },
    {
     "data": {
      "text/plain": [
       "<QuerySet [<Post: 1 : 첫번째 메세지>, <Post: 2 : 두번째 메세지>, <Post: 3 : 세번째 메세지>]>"
      ]
     },
     "execution_count": 11,
     "metadata": {},
     "output_type": "execute_result"
    }
   ],
   "source": [
    "qs = Post.objects.all().order_by('id') #오름차순 -일시 내림차순 모델에서 default 정렬 가능\n",
    "print(qs.query)\n",
    "qs"
   ]
  },
  {
   "cell_type": "code",
   "execution_count": 19,
   "id": "ec1a4417",
   "metadata": {},
   "outputs": [
    {
     "name": "stdout",
     "output_type": "stream",
     "text": [
      "[<Post: 1 : 첫번째 메세지>, <Post: 2 : 두번째 메세지>]\n",
      "1 첫번째 메세지 2022-03-24 12:40:28.330556+00:00\n",
      "id:1, message:첫번째 메세지 2022-03-24 12:40:28.330556+00:00\n",
      "2 두번째 메세지 2022-03-24 12:40:32.748048+00:00\n",
      "id:2, message:두번째 메세지 2022-03-24 12:40:32.748048+00:00\n",
      "3 세번째 메세지 2022-03-24 12:41:03.865957+00:00\n",
      "id:3, message:세번째 메세지 2022-03-24 12:41:03.865957+00:00\n"
     ]
    }
   ],
   "source": [
    "print(qs[:2]) #슬라이싱 가능\n",
    "\n",
    "for post in qs : #for문 가능\n",
    "    print(post.id, post.message ,post.created_at)\n",
    "    print(\"id:{id}, message:{message} {created_at}\".format(**post.__dict__)) #딕셔너리형태 가능"
   ]
  },
  {
   "cell_type": "code",
   "execution_count": 28,
   "id": "7cf49a81",
   "metadata": {},
   "outputs": [
    {
     "name": "stdout",
     "output_type": "stream",
     "text": [
      "<QuerySet [<Post: 1 : 첫번째 메세지>]>\n",
      "<QuerySet []>\n",
      "<QuerySet [<Post: 1 : 첫번째 메세지>]>\n"
     ]
    },
    {
     "data": {
      "text/plain": [
       "<QuerySet [<Post: 3 : 세번째 메세지>, <Post: 2 : 두번째 메세지>, <Post: 1 : 첫번째 메세지>]>"
      ]
     },
     "execution_count": 28,
     "metadata": {},
     "output_type": "execute_result"
    }
   ],
   "source": [
    "print(Post.objects.all().filter(message__icontains='첫번째')) #여러방식으로 filter 가능\n",
    "print(Post.objects.all().filter(message='첫번째')) #완벽히 일치해야한다.\n",
    "print(Post.objects.all().filter(message__startswith='첫번째'))\n",
    "\n",
    "querry = '메세지' # 검색어\n",
    "qs = Post.objects.all().filter(message__icontains=querry).order_by('-id') #체이닝 가능\n",
    "qs"
   ]
  },
  {
   "cell_type": "code",
   "execution_count": 33,
   "id": "a959ad71",
   "metadata": {},
   "outputs": [
    {
     "data": {
      "text/plain": [
       "(<Post: 1 : 첫번째 메세지>,\n",
       " <Post: 1 : 첫번째 메세지>,\n",
       " <Post: 1 : 첫번째 메세지>,\n",
       " <Post: 3 : 세번째 메세지>)"
      ]
     },
     "execution_count": 33,
     "metadata": {},
     "output_type": "execute_result"
    }
   ],
   "source": [
    "qs = Post.objects.all()\n",
    "qs[0], qs.get(pk=1), qs.first(), qs.last() #한개씩만 가지고온다 get의경우 조건에 맞게 가지고올수 있는데 가지고 온 데이터가 여러개이면 오류 발생"
   ]
  },
  {
   "cell_type": "code",
   "execution_count": 38,
   "id": "8d545868",
   "metadata": {},
   "outputs": [
    {
     "data": {
      "text/plain": [
       "<Post: 1 : 첫번째 메세지>"
      ]
     },
     "execution_count": 38,
     "metadata": {},
     "output_type": "execute_result"
    }
   ],
   "source": [
    "qs.get(id__lte=1) #<=2 작은것"
   ]
  },
  {
   "cell_type": "code",
   "execution_count": 40,
   "id": "9ba4b9e7",
   "metadata": {},
   "outputs": [
    {
     "data": {
      "text/plain": [
       "<QuerySet []>"
      ]
     },
     "execution_count": 40,
     "metadata": {},
     "output_type": "execute_result"
    }
   ],
   "source": [
    "qs.none() #빈쿼리셋 지정"
   ]
  },
  {
   "cell_type": "code",
   "execution_count": 45,
   "id": "613b595b",
   "metadata": {},
   "outputs": [
    {
     "name": "stdout",
     "output_type": "stream",
     "text": [
      "SELECT \"instagram_post\".\"id\", \"instagram_post\".\"message\", \"instagram_post\".\"photo\", \"instagram_post\".\"is_public\", \"instagram_post\".\"created_at\", \"instagram_post\".\"updated_at\" FROM \"instagram_post\" WHERE (\"instagram_post\".\"id\" >= 2 OR \"instagram_post\".\"message\" LIKE %메세지% ESCAPE '\\')\n"
     ]
    }
   ],
   "source": [
    "from django.db.models import Q # or 연산을 사용하려면 필요하다\n",
    "\n",
    "querry = '메세지' # 검색어\n",
    "qs = Post.objects.all()\n",
    "qs = qs.filter(Q(id__gte=2) | Q(message__icontains=querry)) # , 은 and 조건  Q 에서는 &  -- > and , | --> or #여기서 i는 대소문자 무시하겠다\n",
    "print(qs.query)"
   ]
  },
  {
   "cell_type": "code",
   "execution_count": 46,
   "id": "4673f188",
   "metadata": {},
   "outputs": [
    {
     "name": "stdout",
     "output_type": "stream",
     "text": [
      "SELECT \"instagram_post\".\"id\", \"instagram_post\".\"message\", \"instagram_post\".\"photo\", \"instagram_post\".\"is_public\", \"instagram_post\".\"created_at\", \"instagram_post\".\"updated_at\" FROM \"instagram_post\" WHERE ((\"instagram_post\".\"id\" >= 2 OR \"instagram_post\".\"message\" LIKE %메세지% ESCAPE '\\') AND (\"instagram_post\".\"id\" >= 2 OR \"instagram_post\".\"message\" LIKE %메세지% ESCAPE '\\'))\n"
     ]
    }
   ],
   "source": [
    "cond = Q(id__gte=2) | Q(message__icontains=querry) # 이런식으로 뺄수있다.\n",
    "qs = qs.filter(cond)\n",
    "print(qs.query)"
   ]
  },
  {
   "cell_type": "code",
   "execution_count": null,
   "id": "70b1f932",
   "metadata": {},
   "outputs": [],
   "source": []
  }
 ],
 "metadata": {
  "kernelspec": {
   "display_name": "Python 3 (ipykernel)",
   "language": "python",
   "name": "python3"
  },
  "language_info": {
   "codemirror_mode": {
    "name": "ipython",
    "version": 3
   },
   "file_extension": ".py",
   "mimetype": "text/x-python",
   "name": "python",
   "nbconvert_exporter": "python",
   "pygments_lexer": "ipython3",
   "version": "3.7.11"
  }
 },
 "nbformat": 4,
 "nbformat_minor": 5
}
